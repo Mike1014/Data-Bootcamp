{
 "cells": [
  {
   "cell_type": "markdown",
   "metadata": {},
   "source": [
    "1. You work at an e-commerce company that sells three goods: widgets, doodads, and fizzbangs. The head of advertising asks you which they should feature in their new advertising campaign. You have data on individual visitors' sessions (activity on a website, pageviews, and purchases, as well as if those users converted from an advertisement for that session. You also have the cost and price information for the goods.\n",
    "\n",
    "2. You work at a web design company that offers to build websites for clients. Signups have slowed, and you are tasked with finding out why. The onboarding funnel has three steps: email and password signup, plan choice, and payment. On a user level you have information on what steps they have completed as well as timestamps for all of those events for the past 3 years. You also have information on marketing spend on a weekly level.\n",
    "\n",
    "3. You work at a hotel website and currently the website ranks search results by price. For simplicity's sake, let's say it's a website for one city with 100 hotels. You are tasked with proposing a better ranking system. You have session information, price information for the hotels, and whether each hotel is currently available.\n",
    "\n",
    "4. You work at a social network, and the management is worried about churn (users stopping using the product). You are tasked with finding out if their churn is atypical. You have three years of data for users with an entry for every time they've logged in, including the timestamp and length of session."
   ]
  },
  {
   "cell_type": "markdown",
   "metadata": {},
   "source": [
    "    Question 1\n",
    "The purpose of an e-commerce company is to make money, therefore whichever good can generate the most profit should be the feature item. Since visitors' sessions lead to more purchases, the popularity of an item will eventually convert to profitability.\n",
    "1. The feature item should have the most expected profit (max(E[widgets profit], E[doodads profit], E[fizzbangs profit])).\n",
    "2. Formula (with widgets as feature item): E[widgets profit] = Profit[widgets] * Sales[widgets|widgets] + Profit[doodads] * Sales[doodads|widgets] + Profit[fizzbangs] * Sales[fizzbangs|widgets]"
   ]
  },
  {
   "cell_type": "markdown",
   "metadata": {
    "collapsed": true
   },
   "source": [
    "    Question 2\n",
    "1. First I would check the weekly marketing spending, if the marketing spending is consistent over the past three years and the signup still slowed down, then the problem lies with the onboarding funnel. However, if there is a positive correlation indicating that more marketing spending leads to more signups, then increasing the marketing spending might just solve the problem.\n",
    "2. There are three steps in the onboarding funnel with the timestamps for each step. If huge amount of time is spent completing the first two steps or clients decides to stop signing up during the first two steps, this probably means the website is not user-friendly or has unclear information regarding the plan choice. If clients stops at the last step, it means that prices might be too expensive for the clients."
   ]
  },
  {
   "cell_type": "markdown",
   "metadata": {},
   "source": [
    "    Question 3\n",
    "For session information, it should cotain information about the amentities in the room, if the smoking is allowed, and the scenary that's outside of the room... For hotel availability, it should should the type of rooms that are avaliable: single bed or two beds. For price is self-explantory. Create a classification system: 'essential', 'desirable', and 'not important'; this is for scoring the hotel. Whichever hotel is able to meet the criteria of the customer (meets most of the essential criterias) will receive a higher score for the category. The final ranking of each hotel depends on the average classification score."
   ]
  },
  {
   "cell_type": "markdown",
   "metadata": {},
   "source": [
    "    Question 4\n",
    "In order to determine if an user should be classify as a 'churn', users who stops using the product. Although an user might log in for a short amount of time (less than one minute), if the user logs on frequently it means that he/she is still an active member. Whereas an user only logs in weekly and stays logged on for a long period of time (more than 30 mintues), this also means he/she is active member. Therefore, to classify an user as a 'churn', we need to look into two categories: timestamp and length of session. \n",
    "    #Create a 2x2 table:\n",
    "        columns ( 'logs on more than one time weekly', 'does not log on weekly')\n",
    "        rows ('stays on more than 3 minutes', 'stays on less than 3 minutes')\n",
    "    # To be a 'churn', user has to be in the last cell ('does not log on weekly' x 'stays on less than 3 minutes)"
   ]
  },
  {
   "cell_type": "code",
   "execution_count": null,
   "metadata": {
    "collapsed": true
   },
   "outputs": [],
   "source": [
    "\n"
   ]
  }
 ],
 "metadata": {
  "kernelspec": {
   "display_name": "Python 3",
   "language": "python",
   "name": "python3"
  },
  "language_info": {
   "codemirror_mode": {
    "name": "ipython",
    "version": 3
   },
   "file_extension": ".py",
   "mimetype": "text/x-python",
   "name": "python",
   "nbconvert_exporter": "python",
   "pygments_lexer": "ipython3",
   "version": "3.6.1"
  }
 },
 "nbformat": 4,
 "nbformat_minor": 2
}
